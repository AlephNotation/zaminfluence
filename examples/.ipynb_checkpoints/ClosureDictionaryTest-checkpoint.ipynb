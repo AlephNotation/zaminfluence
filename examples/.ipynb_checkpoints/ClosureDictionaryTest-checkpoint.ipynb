{
 "cells": [
  {
   "cell_type": "code",
   "execution_count": 2,
   "metadata": {},
   "outputs": [],
   "source": [
    "import numpy as np"
   ]
  },
  {
   "cell_type": "code",
   "execution_count": 5,
   "metadata": {},
   "outputs": [
    {
     "name": "stdout",
     "output_type": "stream",
     "text": [
      "x = 1\n",
      "y = 2\n",
      "z = 3\n"
     ]
    },
    {
     "data": {
      "text/plain": [
       "123"
      ]
     },
     "execution_count": 5,
     "metadata": {},
     "output_type": "execute_result"
    }
   ],
   "source": [
    "def Foo(x, y, z):\n",
    "    print('x = {}\\ny = {}\\nz = {}'.format(x, y, z))\n",
    "    return 100 * x + 10 * y + z\n",
    "\n",
    "Foo(1, 2, 3)"
   ]
  },
  {
   "cell_type": "code",
   "execution_count": 18,
   "metadata": {},
   "outputs": [
    {
     "name": "stdout",
     "output_type": "stream",
     "text": [
      "x = [1]\n",
      "y = [2]\n",
      "z = [3]\n",
      "[123]\n",
      "x = [1]\n",
      "y = [2]\n",
      "z = 5\n",
      "[125]\n",
      "x = [1]\n",
      "y = [2]\n",
      "z = [3]\n",
      "[123]\n",
      "x = [1]\n",
      "y = [2]\n",
      "z = [3]\n",
      "[123]\n",
      "x = 8\n",
      "y = [2]\n",
      "z = [3]\n",
      "[823]\n"
     ]
    }
   ],
   "source": [
    "from copy import deepcopy\n",
    "\n",
    "def GetFooZ(x, y, z):\n",
    "    x_copy = deepcopy(x)\n",
    "    y_copy = deepcopy(y)\n",
    "    z_copy = deepcopy(z)\n",
    "    def FooZ(new_z=None):\n",
    "        if new_z is None:\n",
    "            return Foo(x_copy, y_copy, z_copy)\n",
    "        else:\n",
    "            return Foo(x_copy, y_copy, new_z)\n",
    "    def FooX(new_x=None):\n",
    "        if new_x is None:\n",
    "            return Foo(x_copy, y_copy, z_copy)\n",
    "        else:\n",
    "            return Foo(new_x, y_copy, z_copy)\n",
    "    return { 'Z': FooZ, 'X': FooX }\n",
    "x = np.array([1])\n",
    "y = np.array([2])\n",
    "z = np.array([3])\n",
    "FooDict = GetFooZ(x, y, z)\n",
    "\n",
    "print(FooDict['Z']())\n",
    "print(FooDict['Z'](5))\n",
    "\n",
    "x[:] = 6\n",
    "print(FooDict['Z']())\n",
    "\n",
    "\n",
    "print(FooDict['X']())\n",
    "print(FooDict['X'](8))\n"
   ]
  }
 ],
 "metadata": {
  "kernelspec": {
   "display_name": "Python 3",
   "language": "python",
   "name": "python3"
  },
  "language_info": {
   "codemirror_mode": {
    "name": "ipython",
    "version": 3
   },
   "file_extension": ".py",
   "mimetype": "text/x-python",
   "name": "python",
   "nbconvert_exporter": "python",
   "pygments_lexer": "ipython3",
   "version": "3.8.5"
  }
 },
 "nbformat": 4,
 "nbformat_minor": 4
}
